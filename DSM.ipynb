{
  "nbformat": 4,
  "nbformat_minor": 0,
  "metadata": {
    "colab": {
      "provenance": [],
      "include_colab_link": true
    },
    "kernelspec": {
      "name": "python3",
      "display_name": "Python 3"
    },
    "language_info": {
      "name": "python"
    }
  },
  "cells": [
    {
      "cell_type": "markdown",
      "metadata": {
        "id": "view-in-github",
        "colab_type": "text"
      },
      "source": [
        "<a href=\"https://colab.research.google.com/github/robertpetre/DSM/blob/main/DSM.ipynb\" target=\"_parent\"><img src=\"https://colab.research.google.com/assets/colab-badge.svg\" alt=\"Open In Colab\"/></a>"
      ]
    },
    {
      "cell_type": "code",
      "execution_count": 1,
      "metadata": {
        "id": "z8IdcJF5gdXB",
        "colab": {
          "base_uri": "https://localhost:8080/"
        },
        "outputId": "17f3e112-8d24-403e-c12d-05c9bfeb7831"
      },
      "outputs": [
        {
          "output_type": "stream",
          "name": "stdout",
          "text": [
            "Warning: Looks like you're using an outdated `kagglehub` version, please consider updating (latest version: 0.3.4)\n",
            "Downloading from https://www.kaggle.com/api/v1/datasets/download/cjinny/mura-v11?dataset_version_number=1...\n"
          ]
        },
        {
          "output_type": "stream",
          "name": "stderr",
          "text": [
            "100%|██████████| 3.14G/3.14G [00:36<00:00, 92.4MB/s]"
          ]
        },
        {
          "output_type": "stream",
          "name": "stdout",
          "text": [
            "Extracting files...\n"
          ]
        },
        {
          "output_type": "stream",
          "name": "stderr",
          "text": [
            "\n"
          ]
        },
        {
          "output_type": "stream",
          "name": "stdout",
          "text": [
            "Path to dataset files: /root/.cache/kagglehub/datasets/cjinny/mura-v11/versions/1\n"
          ]
        }
      ],
      "source": [
        "import kagglehub\n",
        "\n",
        "# Download latest version\n",
        "path = kagglehub.dataset_download(\"cjinny/mura-v11\")\n",
        "\n",
        "print(\"Path to dataset files:\", path)"
      ]
    },
    {
      "cell_type": "code",
      "source": [
        "import os\n",
        "import pandas as pd"
      ],
      "metadata": {
        "id": "TGP-JeB-iJp1"
      },
      "execution_count": 10,
      "outputs": []
    },
    {
      "cell_type": "code",
      "source": [
        "root_path = \"/root/.cache/kagglehub/datasets/cjinny/mura-v11/versions/1/MURA-v1.1/\"\n",
        "\n",
        "csv_path_images = os.path.join(root_path, \"train_image_paths.csv\")\n",
        "csv_path_labels = os.path.join(root_path, \"train_labeled_studies.csv\")\n",
        "\n",
        "df_images = pd.read_csv(csv_path_images)\n",
        "\n",
        "filtered_df = df_images[df_images.iloc[:, 0].apply(lambda x: x.split(\"/\")[2] == \"XR_FOREARM\")]\n",
        "\n",
        "train_image_paths = filtered_df.iloc[:, 0].values\n"
      ],
      "metadata": {
        "colab": {
          "base_uri": "https://localhost:8080/"
        },
        "id": "Ybir2SOZhuok",
        "outputId": "34e4e461-73c9-4b73-98bf-e86aa4dc9f24"
      },
      "execution_count": 29,
      "outputs": [
        {
          "output_type": "stream",
          "name": "stdout",
          "text": [
            "MURA-v1.1/train/XR_FOREARM/patient09083/study1_positive/image1.png\n"
          ]
        }
      ]
    },
    {
      "cell_type": "code",
      "source": [],
      "metadata": {
        "colab": {
          "base_uri": "https://localhost:8080/"
        },
        "id": "7ryMdWdYkvLk",
        "outputId": "e75f433f-de38-4e89-8d88-1ac73ce8879a"
      },
      "execution_count": 21,
      "outputs": [
        {
          "output_type": "stream",
          "name": "stdout",
          "text": [
            "XR_SHOULDER\n"
          ]
        }
      ]
    }
  ]
}